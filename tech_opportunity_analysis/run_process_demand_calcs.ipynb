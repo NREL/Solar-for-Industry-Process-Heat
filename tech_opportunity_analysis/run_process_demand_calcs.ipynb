{
 "cells": [
  {
   "cell_type": "code",
   "execution_count": 1,
   "metadata": {},
   "outputs": [],
   "source": [
    "\"\"\"\n",
    "Run process demand calcs:\n",
    "\n",
    "    Bring in mfg eu temps data\n",
    "    Calculate process energy for electric boiler, FPC, PTC, LFwDSG, resistance heating\n",
    "\n",
    "\"\"\"\n",
    "\n",
    "import pandas as pd\n",
    "import numpy as np\n",
    "import pyarrow\n",
    "import tarfile\n",
    "\n",
    "with tarfile.open('mfg_eu_temps_20191003.tar.gz', mode='r:gz') as tf:\n",
    "    tf.extractall('c:/users/carrie schoeneberger/Gitlocal')\n",
    "    mfg_eu_temps = pd.read_parquet('c:/users/carrie schoeneberger/Gitlocal/mfg_eu_temps_20191003/', engine='pyarrow') \n",
    "    "
   ]
  },
  {
   "cell_type": "code",
   "execution_count": null,
   "metadata": {},
   "outputs": [],
   "source": []
  },
  {
   "cell_type": "code",
   "execution_count": null,
   "metadata": {},
   "outputs": [],
   "source": [
    "import Elec_boiler"
   ]
  },
  {
   "cell_type": "code",
   "execution_count": null,
   "metadata": {},
   "outputs": [],
   "source": [
    "eb_df = Elec_boiler.electric_boiler()"
   ]
  },
  {
   "cell_type": "code",
   "execution_count": null,
   "metadata": {},
   "outputs": [],
   "source": [
    "eb_proc_energy = eb_df.calc_eboiler_process_energy(mfg_eu_temps)"
   ]
  },
  {
   "cell_type": "code",
   "execution_count": null,
   "metadata": {},
   "outputs": [],
   "source": [
    "eb_proc_energy.to_csv('eboiler_process_energy.csv.gz', compression='gzip')"
   ]
  },
  {
   "cell_type": "code",
   "execution_count": null,
   "metadata": {},
   "outputs": [],
   "source": []
  },
  {
   "cell_type": "code",
   "execution_count": null,
   "metadata": {},
   "outputs": [],
   "source": [
    "import FPC_hw_heating\n",
    "fpc_df = FPC_hw_heating.fpc_hot_water()\n",
    "fpc_hw_energy = fpc_df.calc_hw_energy(mfg_eu_temps)\n",
    "\n"
   ]
  },
  {
   "cell_type": "code",
   "execution_count": null,
   "metadata": {},
   "outputs": [],
   "source": [
    "fpc_b_energy = fpc_df.calc_boiler_process_energy(fpc_hw_energy)\n",
    "fpc_chp_energy = fpc_df.calc_chp_process_energy(fpc_hw_energy)\n",
    "fpc_proc_energy = fpc_df.combine_boiler_chp(fpc_b_energy,fpc_chp_energy)"
   ]
  },
  {
   "cell_type": "code",
   "execution_count": null,
   "metadata": {},
   "outputs": [],
   "source": [
    "fpc_proc_energy.to_csv('fpc_hw_process_energy.csv.gz', compression='gzip')"
   ]
  },
  {
   "cell_type": "code",
   "execution_count": null,
   "metadata": {},
   "outputs": [],
   "source": []
  },
  {
   "cell_type": "code",
   "execution_count": null,
   "metadata": {},
   "outputs": [],
   "source": [
    "import CSP_all\n",
    "csp_df = CSP_all.CSP(mfg_eu_temps)"
   ]
  },
  {
   "cell_type": "code",
   "execution_count": null,
   "metadata": {},
   "outputs": [],
   "source": [
    "ptc_ph_energy = csp_df.calc_ph_energy()\n",
    "ptc_b_energy = csp_df.calc_boiler_energy('PTC')\n",
    "ptc_chp_energy = csp_df.calc_chp_energy('PTC')\n",
    "ptc_proc_energy = csp_df.combine_ph_boiler_chp(ptc_ph_energy,ptc_b_energy,ptc_chp_energy)\n"
   ]
  },
  {
   "cell_type": "code",
   "execution_count": null,
   "metadata": {},
   "outputs": [],
   "source": [
    "LF_b_energy = csp_df.calc_boiler_energy('LF')\n",
    "LF_chp_energy = csp_df.calc_chp_energy('LF')\n",
    "LF_proc_energy = csp_df.combine_boiler_chp(LF_b_energy,LF_chp_energy)"
   ]
  },
  {
   "cell_type": "code",
   "execution_count": null,
   "metadata": {},
   "outputs": [],
   "source": [
    "ptc_proc_energy.to_csv('ptc_process_energy.csv.gz',compression='gzip')"
   ]
  },
  {
   "cell_type": "code",
   "execution_count": null,
   "metadata": {},
   "outputs": [],
   "source": [
    "LF_proc_energy.to_csv('LF_process_energy.csv.gz',compression='gzip')"
   ]
  },
  {
   "cell_type": "code",
   "execution_count": null,
   "metadata": {},
   "outputs": [],
   "source": []
  },
  {
   "cell_type": "code",
   "execution_count": 2,
   "metadata": {},
   "outputs": [],
   "source": [
    "import resistance_heating\n",
    "res_df = resistance_heating.resistance_htg(mfg_eu_temps)"
   ]
  },
  {
   "cell_type": "code",
   "execution_count": 3,
   "metadata": {},
   "outputs": [],
   "source": [
    "res_ph_energy = res_df.calc_ph_energy()\n",
    "res_b_energy = res_df.calc_boiler_energy()"
   ]
  },
  {
   "cell_type": "code",
   "execution_count": 4,
   "metadata": {},
   "outputs": [],
   "source": [
    "res_chp_energy = res_df.calc_chp_energy()\n",
    "res_proc_energy = res_df.combine_ph_boiler_chp(res_ph_energy,res_b_energy,res_chp_energy)"
   ]
  },
  {
   "cell_type": "code",
   "execution_count": 19,
   "metadata": {},
   "outputs": [],
   "source": [
    "res_proc_energy.to_csv('resistance_process_energy.csv.gz',compression='gzip')"
   ]
  },
  {
   "cell_type": "code",
   "execution_count": null,
   "metadata": {},
   "outputs": [],
   "source": []
  },
  {
   "cell_type": "code",
   "execution_count": null,
   "metadata": {},
   "outputs": [],
   "source": []
  }
 ],
 "metadata": {
  "kernelspec": {
   "display_name": "Python 3",
   "language": "python",
   "name": "python3"
  },
  "language_info": {
   "codemirror_mode": {
    "name": "ipython",
    "version": 3
   },
   "file_extension": ".py",
   "mimetype": "text/x-python",
   "name": "python",
   "nbconvert_exporter": "python",
   "pygments_lexer": "ipython3",
   "version": "3.7.3"
  }
 },
 "nbformat": 4,
 "nbformat_minor": 2
}
